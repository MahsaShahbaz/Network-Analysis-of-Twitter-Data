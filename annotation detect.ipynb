{
 "cells": [
  {
   "attachments": {},
   "cell_type": "markdown",
   "metadata": {},
   "source": [
    "load tweets"
   ]
  },
  {
   "cell_type": "code",
   "execution_count": 2,
   "metadata": {},
   "outputs": [],
   "source": [
    "import pandas as pd\n",
    "tweets_df = pd.read_pickle(\"tweets10t.pkl\")\n",
    "\n",
    "tweets_df.keys()\n",
    "tweets_filtered = tweets_df.copy() \n",
    "column_list = [\"id\",\"author_id\",\"created_at\", \"text\",\"entities\", \"lang\",'public_metrics','context_annotations']\n",
    "tweets_filtered = tweets_filtered[column_list]\n",
    "\n",
    "\n",
    "\n",
    "\n"
   ]
  },
  {
   "attachments": {},
   "cell_type": "markdown",
   "metadata": {},
   "source": [
    "exmple.  context_annotations of a tweet"
   ]
  },
  {
   "cell_type": "code",
   "execution_count": 24,
   "metadata": {},
   "outputs": [
    {
     "name": "stdout",
     "output_type": "stream",
     "text": [
      "TV Shows\n",
      "Business Taxonomy\n",
      "Brand\n",
      "Product\n",
      "Unified Twitter Taxonomy\n",
      "Technology\n"
     ]
    }
   ],
   "source": [
    "for i in range(len(tweets_filtered.iloc[0]['context_annotations'])):\n",
    "    print(tweets_filtered.iloc[0]['context_annotations'][i]['domain']['name'])"
   ]
  },
  {
   "attachments": {},
   "cell_type": "markdown",
   "metadata": {},
   "source": [
    "load selected nodes from previous step"
   ]
  },
  {
   "cell_type": "code",
   "execution_count": 9,
   "metadata": {},
   "outputs": [],
   "source": [
    "targetlist=[]\n",
    "o=open('root.csv','r')\n",
    "for l in o.readlines():\n",
    "    targetlist.append(((l.split(','))[1][1:]))"
   ]
  },
  {
   "attachments": {},
   "cell_type": "markdown",
   "metadata": {},
   "source": [
    "Extracting tweet annotations based on the obtained mentions "
   ]
  },
  {
   "cell_type": "code",
   "execution_count": 20,
   "metadata": {},
   "outputs": [],
   "source": [
    "from collections import Counter\n",
    "title=[]\n",
    "\n",
    "for index,row in tweets_filtered.iterrows():\n",
    "    try:\n",
    "        for men in row['entities']['mentions']:\n",
    "       \n",
    "            if str(men['username']).lower() in targetlist:\n",
    "                for i in range(len(tweets_filtered.iloc[index]['context_annotations'])):\n",
    "                    title.append(str(tweets_filtered.iloc[index]['context_annotations'][i]['domain']['name']).lower())\n",
    "    except:\n",
    "        pass\n",
    "\n",
    "freq=Counter(title)\n",
    "\n",
    "\n"
   ]
  },
  {
   "attachments": {},
   "cell_type": "markdown",
   "metadata": {},
   "source": [
    "sorting extracted annotes"
   ]
  },
  {
   "cell_type": "code",
   "execution_count": 26,
   "metadata": {},
   "outputs": [
    {
     "data": {
      "text/plain": [
       "[('unified twitter taxonomy', 12367),\n",
       " ('business taxonomy', 4064),\n",
       " ('entities [entity service]', 3411),\n",
       " ('technology', 3097),\n",
       " ('brand', 2646),\n",
       " ('product', 1958),\n",
       " ('interests and hobbies category', 1611),\n",
       " ('interests and hobbies vertical', 907),\n",
       " ('digital assets & crypto', 716),\n",
       " ('brand vertical', 476),\n",
       " ('person', 370),\n",
       " ('interests and hobbies', 290),\n",
       " ('politician', 241),\n",
       " ('stocks', 194),\n",
       " ('tv shows', 125),\n",
       " ('events [entity service]', 36),\n",
       " ('news vertical', 33),\n",
       " ('video game hardware', 31),\n",
       " ('sports event', 17),\n",
       " ('cricket match', 17),\n",
       " ('colleges & universities', 11),\n",
       " ('music genre', 10),\n",
       " ('sport', 8),\n",
       " ('sports league', 7),\n",
       " ('cities', 7),\n",
       " ('ongoing news story', 7),\n",
       " ('podcast', 7),\n",
       " ('product taxonomy', 6),\n",
       " ('book genre', 6),\n",
       " ('musician', 5),\n",
       " ('athlete', 5),\n",
       " ('political body', 5),\n",
       " ('multimedia franchise', 5),\n",
       " ('sports team', 4),\n",
       " ('reoccurring trends', 4),\n",
       " ('movie genre', 3),\n",
       " ('actor', 3),\n",
       " ('global tv show', 3),\n",
       " ('fields of study', 3),\n",
       " ('book', 2),\n",
       " ('local news', 2),\n",
       " ('tv episodes', 2),\n",
       " ('sports personality', 2),\n",
       " ('video game publisher', 2),\n",
       " ('entertainment personality', 1),\n",
       " ('states', 1),\n",
       " ('exercise & fitness', 1),\n",
       " ('tv channels', 1),\n",
       " ('holiday', 1)]"
      ]
     },
     "execution_count": 26,
     "metadata": {},
     "output_type": "execute_result"
    }
   ],
   "source": [
    "freq.most_common()"
   ]
  }
 ],
 "metadata": {
  "kernelspec": {
   "display_name": "Python 3",
   "language": "python",
   "name": "python3"
  },
  "language_info": {
   "codemirror_mode": {
    "name": "ipython",
    "version": 3
   },
   "file_extension": ".py",
   "mimetype": "text/x-python",
   "name": "python",
   "nbconvert_exporter": "python",
   "pygments_lexer": "ipython3",
   "version": "3.10.6"
  },
  "orig_nbformat": 4
 },
 "nbformat": 4,
 "nbformat_minor": 2
}
